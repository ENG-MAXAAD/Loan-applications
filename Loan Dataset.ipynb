{
 "cells": [
  {
   "cell_type": "code",
   "execution_count": 2,
   "id": "fa0b138a",
   "metadata": {},
   "outputs": [],
   "source": [
    "import pandas as pd\n",
    "import numpy as np\n",
    "import matplotlib.pyplot as plt\n",
    "import seaborn as sns"
   ]
  },
  {
   "cell_type": "markdown",
   "id": "c01456e5",
   "metadata": {},
   "source": [
    "# Name: Zakaria Ahmed Mahad\n",
    "# Id: Ca120858\n",
    "# Class: Ca205\n",
    "### Loan Data set application"
   ]
  },
  {
   "cell_type": "markdown",
   "id": "fce48903",
   "metadata": {},
   "source": [
    "# load the data, then print the first five rows. \n"
   ]
  },
  {
   "cell_type": "code",
   "execution_count": 3,
   "id": "dceafcd2",
   "metadata": {},
   "outputs": [
    {
     "data": {
      "text/html": [
       "<div>\n",
       "<style scoped>\n",
       "    .dataframe tbody tr th:only-of-type {\n",
       "        vertical-align: middle;\n",
       "    }\n",
       "\n",
       "    .dataframe tbody tr th {\n",
       "        vertical-align: top;\n",
       "    }\n",
       "\n",
       "    .dataframe thead th {\n",
       "        text-align: right;\n",
       "    }\n",
       "</style>\n",
       "<table border=\"1\" class=\"dataframe\">\n",
       "  <thead>\n",
       "    <tr style=\"text-align: right;\">\n",
       "      <th></th>\n",
       "      <th>married</th>\n",
       "      <th>race</th>\n",
       "      <th>loan_decision</th>\n",
       "      <th>occupancy</th>\n",
       "      <th>loan_amount</th>\n",
       "      <th>applicant_income</th>\n",
       "      <th>num_units</th>\n",
       "      <th>num_dependants</th>\n",
       "      <th>self_employed</th>\n",
       "      <th>monthly_income</th>\n",
       "      <th>purchase_price</th>\n",
       "      <th>liquid_assets</th>\n",
       "      <th>mortage_payment_history</th>\n",
       "      <th>consumer_credit_history</th>\n",
       "      <th>filed_bankruptcy</th>\n",
       "      <th>property_type</th>\n",
       "      <th>gender</th>\n",
       "    </tr>\n",
       "  </thead>\n",
       "  <tbody>\n",
       "    <tr>\n",
       "      <th>0</th>\n",
       "      <td>True</td>\n",
       "      <td>white</td>\n",
       "      <td>reject</td>\n",
       "      <td>1</td>\n",
       "      <td>128</td>\n",
       "      <td>74</td>\n",
       "      <td>1.0</td>\n",
       "      <td>1.0</td>\n",
       "      <td>False</td>\n",
       "      <td>4583</td>\n",
       "      <td>160.0</td>\n",
       "      <td>52.00</td>\n",
       "      <td>2</td>\n",
       "      <td>2</td>\n",
       "      <td>False</td>\n",
       "      <td>2</td>\n",
       "      <td>male</td>\n",
       "    </tr>\n",
       "    <tr>\n",
       "      <th>1</th>\n",
       "      <td>False</td>\n",
       "      <td>white</td>\n",
       "      <td>approve</td>\n",
       "      <td>1</td>\n",
       "      <td>128</td>\n",
       "      <td>84</td>\n",
       "      <td>1.0</td>\n",
       "      <td>0.0</td>\n",
       "      <td>False</td>\n",
       "      <td>2666</td>\n",
       "      <td>143.0</td>\n",
       "      <td>37.00</td>\n",
       "      <td>2</td>\n",
       "      <td>2</td>\n",
       "      <td>False</td>\n",
       "      <td>2</td>\n",
       "      <td>male</td>\n",
       "    </tr>\n",
       "    <tr>\n",
       "      <th>2</th>\n",
       "      <td>True</td>\n",
       "      <td>white</td>\n",
       "      <td>approve</td>\n",
       "      <td>1</td>\n",
       "      <td>66</td>\n",
       "      <td>36</td>\n",
       "      <td>1.0</td>\n",
       "      <td>0.0</td>\n",
       "      <td>True</td>\n",
       "      <td>3000</td>\n",
       "      <td>110.0</td>\n",
       "      <td>19.00</td>\n",
       "      <td>2</td>\n",
       "      <td>6</td>\n",
       "      <td>True</td>\n",
       "      <td>2</td>\n",
       "      <td>male</td>\n",
       "    </tr>\n",
       "    <tr>\n",
       "      <th>3</th>\n",
       "      <td>True</td>\n",
       "      <td>white</td>\n",
       "      <td>approve</td>\n",
       "      <td>1</td>\n",
       "      <td>120</td>\n",
       "      <td>59</td>\n",
       "      <td>1.0</td>\n",
       "      <td>0.0</td>\n",
       "      <td>False</td>\n",
       "      <td>2583</td>\n",
       "      <td>134.0</td>\n",
       "      <td>31.00</td>\n",
       "      <td>2</td>\n",
       "      <td>1</td>\n",
       "      <td>False</td>\n",
       "      <td>1</td>\n",
       "      <td>male</td>\n",
       "    </tr>\n",
       "    <tr>\n",
       "      <th>4</th>\n",
       "      <td>False</td>\n",
       "      <td>white</td>\n",
       "      <td>approve</td>\n",
       "      <td>1</td>\n",
       "      <td>111</td>\n",
       "      <td>63</td>\n",
       "      <td>1.0</td>\n",
       "      <td>0.0</td>\n",
       "      <td>False</td>\n",
       "      <td>2208</td>\n",
       "      <td>138.0</td>\n",
       "      <td>169.00</td>\n",
       "      <td>2</td>\n",
       "      <td>6</td>\n",
       "      <td>False</td>\n",
       "      <td>2</td>\n",
       "      <td>male</td>\n",
       "    </tr>\n",
       "    <tr>\n",
       "      <th>5</th>\n",
       "      <td>False</td>\n",
       "      <td>white</td>\n",
       "      <td>approve</td>\n",
       "      <td>1</td>\n",
       "      <td>141</td>\n",
       "      <td>72</td>\n",
       "      <td>1.0</td>\n",
       "      <td>0.0</td>\n",
       "      <td>False</td>\n",
       "      <td>6000</td>\n",
       "      <td>157.0</td>\n",
       "      <td>38.00</td>\n",
       "      <td>2</td>\n",
       "      <td>1</td>\n",
       "      <td>False</td>\n",
       "      <td>1</td>\n",
       "      <td>male</td>\n",
       "    </tr>\n",
       "    <tr>\n",
       "      <th>6</th>\n",
       "      <td>False</td>\n",
       "      <td>white</td>\n",
       "      <td>approve</td>\n",
       "      <td>1</td>\n",
       "      <td>276</td>\n",
       "      <td>90</td>\n",
       "      <td>1.0</td>\n",
       "      <td>0.0</td>\n",
       "      <td>False</td>\n",
       "      <td>7500</td>\n",
       "      <td>346.0</td>\n",
       "      <td>142.00</td>\n",
       "      <td>2</td>\n",
       "      <td>1</td>\n",
       "      <td>False</td>\n",
       "      <td>2</td>\n",
       "      <td>male</td>\n",
       "    </tr>\n",
       "    <tr>\n",
       "      <th>7</th>\n",
       "      <td>True</td>\n",
       "      <td>white</td>\n",
       "      <td>approve</td>\n",
       "      <td>1</td>\n",
       "      <td>100</td>\n",
       "      <td>72</td>\n",
       "      <td>1.0</td>\n",
       "      <td>1.0</td>\n",
       "      <td>False</td>\n",
       "      <td>3234</td>\n",
       "      <td>99.7</td>\n",
       "      <td>24.50</td>\n",
       "      <td>2</td>\n",
       "      <td>1</td>\n",
       "      <td>False</td>\n",
       "      <td>2</td>\n",
       "      <td>male</td>\n",
       "    </tr>\n",
       "    <tr>\n",
       "      <th>8</th>\n",
       "      <td>True</td>\n",
       "      <td>white</td>\n",
       "      <td>approve</td>\n",
       "      <td>1</td>\n",
       "      <td>267</td>\n",
       "      <td>144</td>\n",
       "      <td>1.0</td>\n",
       "      <td>2.0</td>\n",
       "      <td>True</td>\n",
       "      <td>5417</td>\n",
       "      <td>422.0</td>\n",
       "      <td>111.00</td>\n",
       "      <td>1</td>\n",
       "      <td>1</td>\n",
       "      <td>False</td>\n",
       "      <td>2</td>\n",
       "      <td>male</td>\n",
       "    </tr>\n",
       "    <tr>\n",
       "      <th>9</th>\n",
       "      <td>True</td>\n",
       "      <td>white</td>\n",
       "      <td>approve</td>\n",
       "      <td>1</td>\n",
       "      <td>175</td>\n",
       "      <td>97</td>\n",
       "      <td>1.0</td>\n",
       "      <td>0.0</td>\n",
       "      <td>False</td>\n",
       "      <td>6292</td>\n",
       "      <td>346.7</td>\n",
       "      <td>186.60</td>\n",
       "      <td>1</td>\n",
       "      <td>2</td>\n",
       "      <td>False</td>\n",
       "      <td>2</td>\n",
       "      <td>male</td>\n",
       "    </tr>\n",
       "    <tr>\n",
       "      <th>10</th>\n",
       "      <td>True</td>\n",
       "      <td>white</td>\n",
       "      <td>approve</td>\n",
       "      <td>1</td>\n",
       "      <td>95</td>\n",
       "      <td>46</td>\n",
       "      <td>1.0</td>\n",
       "      <td>0.0</td>\n",
       "      <td>False</td>\n",
       "      <td>2333</td>\n",
       "      <td>135.0</td>\n",
       "      <td>52.33</td>\n",
       "      <td>2</td>\n",
       "      <td>6</td>\n",
       "      <td>False</td>\n",
       "      <td>2</td>\n",
       "      <td>male</td>\n",
       "    </tr>\n",
       "    <tr>\n",
       "      <th>11</th>\n",
       "      <td>True</td>\n",
       "      <td>white</td>\n",
       "      <td>reject</td>\n",
       "      <td>1</td>\n",
       "      <td>158</td>\n",
       "      <td>666</td>\n",
       "      <td>1.0</td>\n",
       "      <td>4.0</td>\n",
       "      <td>False</td>\n",
       "      <td>3036</td>\n",
       "      <td>210.0</td>\n",
       "      <td>188.00</td>\n",
       "      <td>2</td>\n",
       "      <td>6</td>\n",
       "      <td>True</td>\n",
       "      <td>1</td>\n",
       "      <td>male</td>\n",
       "    </tr>\n",
       "    <tr>\n",
       "      <th>12</th>\n",
       "      <td>True</td>\n",
       "      <td>white</td>\n",
       "      <td>approve</td>\n",
       "      <td>1</td>\n",
       "      <td>110</td>\n",
       "      <td>60</td>\n",
       "      <td>1.0</td>\n",
       "      <td>0.0</td>\n",
       "      <td>False</td>\n",
       "      <td>5720</td>\n",
       "      <td>143.0</td>\n",
       "      <td>153.00</td>\n",
       "      <td>1</td>\n",
       "      <td>3</td>\n",
       "      <td>False</td>\n",
       "      <td>2</td>\n",
       "      <td>male</td>\n",
       "    </tr>\n",
       "    <tr>\n",
       "      <th>13</th>\n",
       "      <td>True</td>\n",
       "      <td>white</td>\n",
       "      <td>approve</td>\n",
       "      <td>1</td>\n",
       "      <td>40</td>\n",
       "      <td>48</td>\n",
       "      <td>1.0</td>\n",
       "      <td>0.0</td>\n",
       "      <td>False</td>\n",
       "      <td>3103</td>\n",
       "      <td>197.0</td>\n",
       "      <td>34.00</td>\n",
       "      <td>1</td>\n",
       "      <td>1</td>\n",
       "      <td>False</td>\n",
       "      <td>2</td>\n",
       "      <td>male</td>\n",
       "    </tr>\n",
       "    <tr>\n",
       "      <th>14</th>\n",
       "      <td>True</td>\n",
       "      <td>black</td>\n",
       "      <td>approve</td>\n",
       "      <td>1</td>\n",
       "      <td>70</td>\n",
       "      <td>33</td>\n",
       "      <td>1.0</td>\n",
       "      <td>1.0</td>\n",
       "      <td>True</td>\n",
       "      <td>2800</td>\n",
       "      <td>78.0</td>\n",
       "      <td>10.00</td>\n",
       "      <td>2</td>\n",
       "      <td>1</td>\n",
       "      <td>False</td>\n",
       "      <td>1</td>\n",
       "      <td>male</td>\n",
       "    </tr>\n",
       "  </tbody>\n",
       "</table>\n",
       "</div>"
      ],
      "text/plain": [
       "   married   race loan_decision  occupancy  loan_amount  applicant_income  \\\n",
       "0     True  white        reject          1          128                74   \n",
       "1    False  white       approve          1          128                84   \n",
       "2     True  white       approve          1           66                36   \n",
       "3     True  white       approve          1          120                59   \n",
       "4    False  white       approve          1          111                63   \n",
       "5    False  white       approve          1          141                72   \n",
       "6    False  white       approve          1          276                90   \n",
       "7     True  white       approve          1          100                72   \n",
       "8     True  white       approve          1          267               144   \n",
       "9     True  white       approve          1          175                97   \n",
       "10    True  white       approve          1           95                46   \n",
       "11    True  white        reject          1          158               666   \n",
       "12    True  white       approve          1          110                60   \n",
       "13    True  white       approve          1           40                48   \n",
       "14    True  black       approve          1           70                33   \n",
       "\n",
       "    num_units  num_dependants  self_employed  monthly_income  purchase_price  \\\n",
       "0         1.0             1.0          False            4583           160.0   \n",
       "1         1.0             0.0          False            2666           143.0   \n",
       "2         1.0             0.0           True            3000           110.0   \n",
       "3         1.0             0.0          False            2583           134.0   \n",
       "4         1.0             0.0          False            2208           138.0   \n",
       "5         1.0             0.0          False            6000           157.0   \n",
       "6         1.0             0.0          False            7500           346.0   \n",
       "7         1.0             1.0          False            3234            99.7   \n",
       "8         1.0             2.0           True            5417           422.0   \n",
       "9         1.0             0.0          False            6292           346.7   \n",
       "10        1.0             0.0          False            2333           135.0   \n",
       "11        1.0             4.0          False            3036           210.0   \n",
       "12        1.0             0.0          False            5720           143.0   \n",
       "13        1.0             0.0          False            3103           197.0   \n",
       "14        1.0             1.0           True            2800            78.0   \n",
       "\n",
       "    liquid_assets  mortage_payment_history  consumer_credit_history  \\\n",
       "0           52.00                        2                        2   \n",
       "1           37.00                        2                        2   \n",
       "2           19.00                        2                        6   \n",
       "3           31.00                        2                        1   \n",
       "4          169.00                        2                        6   \n",
       "5           38.00                        2                        1   \n",
       "6          142.00                        2                        1   \n",
       "7           24.50                        2                        1   \n",
       "8          111.00                        1                        1   \n",
       "9          186.60                        1                        2   \n",
       "10          52.33                        2                        6   \n",
       "11         188.00                        2                        6   \n",
       "12         153.00                        1                        3   \n",
       "13          34.00                        1                        1   \n",
       "14          10.00                        2                        1   \n",
       "\n",
       "    filed_bankruptcy  property_type gender  \n",
       "0              False              2   male  \n",
       "1              False              2   male  \n",
       "2               True              2   male  \n",
       "3              False              1   male  \n",
       "4              False              2   male  \n",
       "5              False              1   male  \n",
       "6              False              2   male  \n",
       "7              False              2   male  \n",
       "8              False              2   male  \n",
       "9              False              2   male  \n",
       "10             False              2   male  \n",
       "11              True              1   male  \n",
       "12             False              2   male  \n",
       "13             False              2   male  \n",
       "14             False              1   male  "
      ]
     },
     "execution_count": 3,
     "metadata": {},
     "output_type": "execute_result"
    }
   ],
   "source": [
    "df= pd.read_csv('Downloads/loanapplications.csv')\n",
    "df.head(15)"
   ]
  },
  {
   "cell_type": "code",
   "execution_count": 4,
   "id": "a40d1fd4",
   "metadata": {},
   "outputs": [
    {
     "data": {
      "text/plain": [
       "Text(0, 0.5, 'Monthly Income')"
      ]
     },
     "execution_count": 4,
     "metadata": {},
     "output_type": "execute_result"
    },
    {
     "data": {
      "image/png": "[encoded data removed]",
      "text/plain": [
       "<Figure size 640x480 with 1 Axes>"
      ]
     },
     "metadata": {},
     "output_type": "display_data"
    }
   ],
   "source": [
    "sns.stripplot(x=\"gender\", y=\"monthly_income\",  data=df, hue=\"loan_decision\", palette=\"YlGnBu\", dodge=True)\n",
    "plt.title(\"Scatter Plot of Gender and Monthly Income\")\n",
    "plt.xlabel(\"Gender\")\n",
    "plt.ylabel(\"Monthly Income\")"
   ]
  },
  {
   "cell_type": "code",
   "execution_count": 50,
   "id": "38a21ff2",
   "metadata": {},
   "outputs": [
    {
     "data": {
      "text/plain": [
       "Text(0.5, 1.0, 'Strip Plot of Married People to Approve | Reject Loan ')"
      ]
     },
     "execution_count": 50,
     "metadata": {},
     "output_type": "execute_result"
    },
    {
     "data": {
      "image/png": "[encoded data removed]",
      "text/plain": [
       "<Figure size 640x480 with 1 Axes>"
      ]
     },
     "metadata": {},
     "output_type": "display_data"
    }
   ],
   "source": [
    "sns.stripplot(data=df, x=\"loan_amount\", y=\"monthly_income\", hue=\"loan_decision\")\n",
    "plt.title(\"Strip Plot of Married People to Approve | Reject Loan \")"
   ]
  },
  {
   "cell_type": "code",
   "execution_count": 6,
   "id": "c97b87b3",
   "metadata": {},
   "outputs": [
    {
     "name": "stderr",
     "output_type": "stream",
     "text": [
      "C:\\Users\\pc\\AppData\\Local\\Temp\\ipykernel_15224\\1134722465.py:1: FutureWarning: The default value of numeric_only in DataFrame.corr is deprecated. In a future version, it will default to False. Select only valid columns or specify the value of numeric_only to silence this warning.\n",
      "  df.corr()\n"
     ]
    },
    {
     "data": {
      "text/html": [
       "<div>\n",
       "<style scoped>\n",
       "    .dataframe tbody tr th:only-of-type {\n",
       "        vertical-align: middle;\n",
       "    }\n",
       "\n",
       "    .dataframe tbody tr th {\n",
       "        vertical-align: top;\n",
       "    }\n",
       "\n",
       "    .dataframe thead th {\n",
       "        text-align: right;\n",
       "    }\n",
       "</style>\n",
       "<table border=\"1\" class=\"dataframe\">\n",
       "  <thead>\n",
       "    <tr style=\"text-align: right;\">\n",
       "      <th></th>\n",
       "      <th>occupancy</th>\n",
       "      <th>loan_amount</th>\n",
       "      <th>applicant_income</th>\n",
       "      <th>num_units</th>\n",
       "      <th>num_dependants</th>\n",
       "      <th>self_employed</th>\n",
       "      <th>monthly_income</th>\n",
       "      <th>purchase_price</th>\n",
       "      <th>liquid_assets</th>\n",
       "      <th>mortage_payment_history</th>\n",
       "      <th>consumer_credit_history</th>\n",
       "      <th>filed_bankruptcy</th>\n",
       "      <th>property_type</th>\n",
       "    </tr>\n",
       "  </thead>\n",
       "  <tbody>\n",
       "    <tr>\n",
       "      <th>occupancy</th>\n",
       "      <td>1.000000</td>\n",
       "      <td>-0.016503</td>\n",
       "      <td>0.030299</td>\n",
       "      <td>0.073827</td>\n",
       "      <td>0.003352</td>\n",
       "      <td>0.084933</td>\n",
       "      <td>0.085524</td>\n",
       "      <td>-0.025596</td>\n",
       "      <td>0.106296</td>\n",
       "      <td>-0.073849</td>\n",
       "      <td>-0.042528</td>\n",
       "      <td>-0.024265</td>\n",
       "      <td>0.033082</td>\n",
       "    </tr>\n",
       "    <tr>\n",
       "      <th>loan_amount</th>\n",
       "      <td>-0.016503</td>\n",
       "      <td>1.000000</td>\n",
       "      <td>0.433406</td>\n",
       "      <td>0.041090</td>\n",
       "      <td>0.137910</td>\n",
       "      <td>0.145959</td>\n",
       "      <td>0.574379</td>\n",
       "      <td>0.834429</td>\n",
       "      <td>0.014994</td>\n",
       "      <td>-0.154574</td>\n",
       "      <td>-0.004061</td>\n",
       "      <td>0.027271</td>\n",
       "      <td>0.180313</td>\n",
       "    </tr>\n",
       "    <tr>\n",
       "      <th>applicant_income</th>\n",
       "      <td>0.030299</td>\n",
       "      <td>0.433406</td>\n",
       "      <td>1.000000</td>\n",
       "      <td>-0.055580</td>\n",
       "      <td>0.102515</td>\n",
       "      <td>0.128460</td>\n",
       "      <td>0.566113</td>\n",
       "      <td>0.450326</td>\n",
       "      <td>-0.007452</td>\n",
       "      <td>-0.057970</td>\n",
       "      <td>0.037862</td>\n",
       "      <td>0.041247</td>\n",
       "      <td>-0.020165</td>\n",
       "    </tr>\n",
       "    <tr>\n",
       "      <th>num_units</th>\n",
       "      <td>0.073827</td>\n",
       "      <td>0.041090</td>\n",
       "      <td>-0.055580</td>\n",
       "      <td>1.000000</td>\n",
       "      <td>-0.006651</td>\n",
       "      <td>0.046426</td>\n",
       "      <td>-0.008337</td>\n",
       "      <td>-0.010690</td>\n",
       "      <td>-0.019026</td>\n",
       "      <td>0.008925</td>\n",
       "      <td>0.070101</td>\n",
       "      <td>0.051750</td>\n",
       "      <td>0.541858</td>\n",
       "    </tr>\n",
       "    <tr>\n",
       "      <th>num_dependants</th>\n",
       "      <td>0.003352</td>\n",
       "      <td>0.137910</td>\n",
       "      <td>0.102515</td>\n",
       "      <td>-0.006651</td>\n",
       "      <td>1.000000</td>\n",
       "      <td>0.041830</td>\n",
       "      <td>0.143965</td>\n",
       "      <td>0.165839</td>\n",
       "      <td>0.007185</td>\n",
       "      <td>-0.090062</td>\n",
       "      <td>0.010059</td>\n",
       "      <td>0.063203</td>\n",
       "      <td>0.160293</td>\n",
       "    </tr>\n",
       "    <tr>\n",
       "      <th>self_employed</th>\n",
       "      <td>0.084933</td>\n",
       "      <td>0.145959</td>\n",
       "      <td>0.128460</td>\n",
       "      <td>0.046426</td>\n",
       "      <td>0.041830</td>\n",
       "      <td>1.000000</td>\n",
       "      <td>0.181829</td>\n",
       "      <td>0.150422</td>\n",
       "      <td>0.041264</td>\n",
       "      <td>-0.029759</td>\n",
       "      <td>-0.038150</td>\n",
       "      <td>0.013550</td>\n",
       "      <td>0.043916</td>\n",
       "    </tr>\n",
       "    <tr>\n",
       "      <th>monthly_income</th>\n",
       "      <td>0.085524</td>\n",
       "      <td>0.574379</td>\n",
       "      <td>0.566113</td>\n",
       "      <td>-0.008337</td>\n",
       "      <td>0.143965</td>\n",
       "      <td>0.181829</td>\n",
       "      <td>1.000000</td>\n",
       "      <td>0.624947</td>\n",
       "      <td>0.004233</td>\n",
       "      <td>-0.095952</td>\n",
       "      <td>-0.000366</td>\n",
       "      <td>0.012480</td>\n",
       "      <td>0.001120</td>\n",
       "    </tr>\n",
       "    <tr>\n",
       "      <th>purchase_price</th>\n",
       "      <td>-0.025596</td>\n",
       "      <td>0.834429</td>\n",
       "      <td>0.450326</td>\n",
       "      <td>-0.010690</td>\n",
       "      <td>0.165839</td>\n",
       "      <td>0.150422</td>\n",
       "      <td>0.624947</td>\n",
       "      <td>1.000000</td>\n",
       "      <td>-0.012625</td>\n",
       "      <td>-0.193409</td>\n",
       "      <td>-0.031705</td>\n",
       "      <td>-0.004980</td>\n",
       "      <td>0.136291</td>\n",
       "    </tr>\n",
       "    <tr>\n",
       "      <th>liquid_assets</th>\n",
       "      <td>0.106296</td>\n",
       "      <td>0.014994</td>\n",
       "      <td>-0.007452</td>\n",
       "      <td>-0.019026</td>\n",
       "      <td>0.007185</td>\n",
       "      <td>0.041264</td>\n",
       "      <td>0.004233</td>\n",
       "      <td>-0.012625</td>\n",
       "      <td>1.000000</td>\n",
       "      <td>0.008259</td>\n",
       "      <td>-0.036096</td>\n",
       "      <td>-0.018156</td>\n",
       "      <td>0.017246</td>\n",
       "    </tr>\n",
       "    <tr>\n",
       "      <th>mortage_payment_history</th>\n",
       "      <td>-0.073849</td>\n",
       "      <td>-0.154574</td>\n",
       "      <td>-0.057970</td>\n",
       "      <td>0.008925</td>\n",
       "      <td>-0.090062</td>\n",
       "      <td>-0.029759</td>\n",
       "      <td>-0.095952</td>\n",
       "      <td>-0.193409</td>\n",
       "      <td>0.008259</td>\n",
       "      <td>1.000000</td>\n",
       "      <td>0.137248</td>\n",
       "      <td>0.071427</td>\n",
       "      <td>-0.029658</td>\n",
       "    </tr>\n",
       "    <tr>\n",
       "      <th>consumer_credit_history</th>\n",
       "      <td>-0.042528</td>\n",
       "      <td>-0.004061</td>\n",
       "      <td>0.037862</td>\n",
       "      <td>0.070101</td>\n",
       "      <td>0.010059</td>\n",
       "      <td>-0.038150</td>\n",
       "      <td>-0.000366</td>\n",
       "      <td>-0.031705</td>\n",
       "      <td>-0.036096</td>\n",
       "      <td>0.137248</td>\n",
       "      <td>1.000000</td>\n",
       "      <td>0.286504</td>\n",
       "      <td>0.019442</td>\n",
       "    </tr>\n",
       "    <tr>\n",
       "      <th>filed_bankruptcy</th>\n",
       "      <td>-0.024265</td>\n",
       "      <td>0.027271</td>\n",
       "      <td>0.041247</td>\n",
       "      <td>0.051750</td>\n",
       "      <td>0.063203</td>\n",
       "      <td>0.013550</td>\n",
       "      <td>0.012480</td>\n",
       "      <td>-0.004980</td>\n",
       "      <td>-0.018156</td>\n",
       "      <td>0.071427</td>\n",
       "      <td>0.286504</td>\n",
       "      <td>1.000000</td>\n",
       "      <td>0.022332</td>\n",
       "    </tr>\n",
       "    <tr>\n",
       "      <th>property_type</th>\n",
       "      <td>0.033082</td>\n",
       "      <td>0.180313</td>\n",
       "      <td>-0.020165</td>\n",
       "      <td>0.541858</td>\n",
       "      <td>0.160293</td>\n",
       "      <td>0.043916</td>\n",
       "      <td>0.001120</td>\n",
       "      <td>0.136291</td>\n",
       "      <td>0.017246</td>\n",
       "      <td>-0.029658</td>\n",
       "      <td>0.019442</td>\n",
       "      <td>0.022332</td>\n",
       "      <td>1.000000</td>\n",
       "    </tr>\n",
       "  </tbody>\n",
       "</table>\n",
       "</div>"
      ],
      "text/plain": [
       "                         occupancy  loan_amount  applicant_income  num_units  \\\n",
       "occupancy                 1.000000    -0.016503          0.030299   0.073827   \n",
       "loan_amount              -0.016503     1.000000          0.433406   0.041090   \n",
       "applicant_income          0.030299     0.433406          1.000000  -0.055580   \n",
       "num_units                 0.073827     0.041090         -0.055580   1.000000   \n",
       "num_dependants            0.003352     0.137910          0.102515  -0.006651   \n",
       "self_employed             0.084933     0.145959          0.128460   0.046426   \n",
       "monthly_income            0.085524     0.574379          0.566113  -0.008337   \n",
       "purchase_price           -0.025596     0.834429          0.450326  -0.010690   \n",
       "liquid_assets             0.106296     0.014994         -0.007452  -0.019026   \n",
       "mortage_payment_history  -0.073849    -0.154574         -0.057970   0.008925   \n",
       "consumer_credit_history  -0.042528    -0.004061          0.037862   0.070101   \n",
       "filed_bankruptcy         -0.024265     0.027271          0.041247   0.051750   \n",
       "property_type             0.033082     0.180313         -0.020165   0.541858   \n",
       "\n",
       "                         num_dependants  self_employed  monthly_income  \\\n",
       "occupancy                      0.003352       0.084933        0.085524   \n",
       "loan_amount                    0.137910       0.145959        0.574379   \n",
       "applicant_income               0.102515       0.128460        0.566113   \n",
       "num_units                     -0.006651       0.046426       -0.008337   \n",
       "num_dependants                 1.000000       0.041830        0.143965   \n",
       "self_employed                  0.041830       1.000000        0.181829   \n",
       "monthly_income                 0.143965       0.181829        1.000000   \n",
       "purchase_price                 0.165839       0.150422        0.624947   \n",
       "liquid_assets                  0.007185       0.041264        0.004233   \n",
       "mortage_payment_history       -0.090062      -0.029759       -0.095952   \n",
       "consumer_credit_history        0.010059      -0.038150       -0.000366   \n",
       "filed_bankruptcy               0.063203       0.013550        0.012480   \n",
       "property_type                  0.160293       0.043916        0.001120   \n",
       "\n",
       "                         purchase_price  liquid_assets  \\\n",
       "occupancy                     -0.025596       0.106296   \n",
       "loan_amount                    0.834429       0.014994   \n",
       "applicant_income               0.450326      -0.007452   \n",
       "num_units                     -0.010690      -0.019026   \n",
       "num_dependants                 0.165839       0.007185   \n",
       "self_employed                  0.150422       0.041264   \n",
       "monthly_income                 0.624947       0.004233   \n",
       "purchase_price                 1.000000      -0.012625   \n",
       "liquid_assets                 -0.012625       1.000000   \n",
       "mortage_payment_history       -0.193409       0.008259   \n",
       "consumer_credit_history       -0.031705      -0.036096   \n",
       "filed_bankruptcy              -0.004980      -0.018156   \n",
       "property_type                  0.136291       0.017246   \n",
       "\n",
       "                         mortage_payment_history  consumer_credit_history  \\\n",
       "occupancy                              -0.073849                -0.042528   \n",
       "loan_amount                            -0.154574                -0.004061   \n",
       "applicant_income                       -0.057970                 0.037862   \n",
       "num_units                               0.008925                 0.070101   \n",
       "num_dependants                         -0.090062                 0.010059   \n",
       "self_employed                          -0.029759                -0.038150   \n",
       "monthly_income                         -0.095952                -0.000366   \n",
       "purchase_price                         -0.193409                -0.031705   \n",
       "liquid_assets                           0.008259                -0.036096   \n",
       "mortage_payment_history                 1.000000                 0.137248   \n",
       "consumer_credit_history                 0.137248                 1.000000   \n",
       "filed_bankruptcy                        0.071427                 0.286504   \n",
       "property_type                          -0.029658                 0.019442   \n",
       "\n",
       "                         filed_bankruptcy  property_type  \n",
       "occupancy                       -0.024265       0.033082  \n",
       "loan_amount                      0.027271       0.180313  \n",
       "applicant_income                 0.041247      -0.020165  \n",
       "num_units                        0.051750       0.541858  \n",
       "num_dependants                   0.063203       0.160293  \n",
       "self_employed                    0.013550       0.043916  \n",
       "monthly_income                   0.012480       0.001120  \n",
       "purchase_price                  -0.004980       0.136291  \n",
       "liquid_assets                   -0.018156       0.017246  \n",
       "mortage_payment_history          0.071427      -0.029658  \n",
       "consumer_credit_history          0.286504       0.019442  \n",
       "filed_bankruptcy                 1.000000       0.022332  \n",
       "property_type                    0.022332       1.000000  "
      ]
     },
     "execution_count": 6,
     "metadata": {},
     "output_type": "execute_result"
    }
   ],
   "source": [
    "df.corr()"
   ]
  },
  {
   "cell_type": "code",
   "execution_count": 7,
   "id": "8fcded7b",
   "metadata": {},
   "outputs": [
    {
     "name": "stderr",
     "output_type": "stream",
     "text": [
      "C:\\Users\\pc\\AppData\\Local\\Temp\\ipykernel_15224\\154325486.py:1: FutureWarning: The default value of numeric_only in DataFrame.corr is deprecated. In a future version, it will default to False. Select only valid columns or specify the value of numeric_only to silence this warning.\n",
      "  sns.heatmap(df.corr(), annot=True, cmap=\"icefire\")\n"
     ]
    },
    {
     "data": {
      "text/plain": [
       "<Axes: >"
      ]
     },
     "execution_count": 7,
     "metadata": {},
     "output_type": "execute_result"
    },
    {
     "data": {
      "image/png": "[encoded data removed]",
      "text/plain": [
       "<Figure size 640x480 with 2 Axes>"
      ]
     },
     "metadata": {},
     "output_type": "display_data"
    }
   ],
   "source": [
    "sns.heatmap(df.corr(), annot=True, cmap=\"icefire\")"
   ]
  },
  {
   "cell_type": "code",
   "execution_count": null,
   "id": "98524bcc",
   "metadata": {},
   "outputs": [],
   "source": []
  },
  {
   "cell_type": "markdown",
   "id": "eaa27ed5",
   "metadata": {},
   "source": [
    "### the total number of columns in our loan application \n"
   ]
  },
  {
   "cell_type": "code",
   "execution_count": 8,
   "id": "40b0d9e5",
   "metadata": {},
   "outputs": [
    {
     "data": {
      "text/plain": [
       "Index(['married', 'race', 'loan_decision', 'occupancy', 'loan_amount',\n",
       "       'applicant_income', 'num_units', 'num_dependants', 'self_employed',\n",
       "       'monthly_income', 'purchase_price', 'liquid_assets',\n",
       "       'mortage_payment_history', 'consumer_credit_history',\n",
       "       'filed_bankruptcy', 'property_type', 'gender'],\n",
       "      dtype='object')"
      ]
     },
     "execution_count": 8,
     "metadata": {},
     "output_type": "execute_result"
    }
   ],
   "source": [
    "df.columns"
   ]
  },
  {
   "cell_type": "markdown",
   "id": "00c3d970",
   "metadata": {},
   "source": [
    "### Describe provides a summary of the numerical columns in the DataFrame, including count, mean, standard deviation, minimum, maximum, and quartiles."
   ]
  },
  {
   "cell_type": "code",
   "execution_count": 9,
   "id": "c36f93a6",
   "metadata": {},
   "outputs": [
    {
     "data": {
      "text/html": [
       "<div>\n",
       "<style scoped>\n",
       "    .dataframe tbody tr th:only-of-type {\n",
       "        vertical-align: middle;\n",
       "    }\n",
       "\n",
       "    .dataframe tbody tr th {\n",
       "        vertical-align: top;\n",
       "    }\n",
       "\n",
       "    .dataframe thead th {\n",
       "        text-align: right;\n",
       "    }\n",
       "</style>\n",
       "<table border=\"1\" class=\"dataframe\">\n",
       "  <thead>\n",
       "    <tr style=\"text-align: right;\">\n",
       "      <th></th>\n",
       "      <th>occupancy</th>\n",
       "      <th>loan_amount</th>\n",
       "      <th>applicant_income</th>\n",
       "      <th>num_units</th>\n",
       "      <th>num_dependants</th>\n",
       "      <th>monthly_income</th>\n",
       "      <th>purchase_price</th>\n",
       "      <th>liquid_assets</th>\n",
       "      <th>mortage_payment_history</th>\n",
       "      <th>consumer_credit_history</th>\n",
       "      <th>property_type</th>\n",
       "    </tr>\n",
       "  </thead>\n",
       "  <tbody>\n",
       "    <tr>\n",
       "      <th>count</th>\n",
       "      <td>1988.000000</td>\n",
       "      <td>1988.000000</td>\n",
       "      <td>1988.000000</td>\n",
       "      <td>1984.000000</td>\n",
       "      <td>1985.000000</td>\n",
       "      <td>1988.000000</td>\n",
       "      <td>1988.000000</td>\n",
       "      <td>1988.000000</td>\n",
       "      <td>1988.000000</td>\n",
       "      <td>1988.000000</td>\n",
       "      <td>1988.000000</td>\n",
       "    </tr>\n",
       "    <tr>\n",
       "      <th>mean</th>\n",
       "      <td>1.031690</td>\n",
       "      <td>143.272636</td>\n",
       "      <td>84.684105</td>\n",
       "      <td>1.122480</td>\n",
       "      <td>0.771285</td>\n",
       "      <td>5195.220825</td>\n",
       "      <td>196.304088</td>\n",
       "      <td>4620.333873</td>\n",
       "      <td>1.708249</td>\n",
       "      <td>2.110161</td>\n",
       "      <td>1.861167</td>\n",
       "    </tr>\n",
       "    <tr>\n",
       "      <th>std</th>\n",
       "      <td>0.191678</td>\n",
       "      <td>80.531470</td>\n",
       "      <td>87.079777</td>\n",
       "      <td>0.437315</td>\n",
       "      <td>1.104464</td>\n",
       "      <td>5270.360946</td>\n",
       "      <td>128.136030</td>\n",
       "      <td>67142.936043</td>\n",
       "      <td>0.555335</td>\n",
       "      <td>1.663256</td>\n",
       "      <td>0.535448</td>\n",
       "    </tr>\n",
       "    <tr>\n",
       "      <th>min</th>\n",
       "      <td>1.000000</td>\n",
       "      <td>2.000000</td>\n",
       "      <td>0.000000</td>\n",
       "      <td>1.000000</td>\n",
       "      <td>0.000000</td>\n",
       "      <td>0.000000</td>\n",
       "      <td>25.000000</td>\n",
       "      <td>0.000000</td>\n",
       "      <td>1.000000</td>\n",
       "      <td>1.000000</td>\n",
       "      <td>1.000000</td>\n",
       "    </tr>\n",
       "    <tr>\n",
       "      <th>25%</th>\n",
       "      <td>1.000000</td>\n",
       "      <td>100.000000</td>\n",
       "      <td>48.000000</td>\n",
       "      <td>1.000000</td>\n",
       "      <td>0.000000</td>\n",
       "      <td>2875.750000</td>\n",
       "      <td>129.000000</td>\n",
       "      <td>20.000000</td>\n",
       "      <td>1.000000</td>\n",
       "      <td>1.000000</td>\n",
       "      <td>2.000000</td>\n",
       "    </tr>\n",
       "    <tr>\n",
       "      <th>50%</th>\n",
       "      <td>1.000000</td>\n",
       "      <td>126.000000</td>\n",
       "      <td>64.000000</td>\n",
       "      <td>1.000000</td>\n",
       "      <td>0.000000</td>\n",
       "      <td>3812.500000</td>\n",
       "      <td>163.000000</td>\n",
       "      <td>38.000000</td>\n",
       "      <td>2.000000</td>\n",
       "      <td>1.000000</td>\n",
       "      <td>2.000000</td>\n",
       "    </tr>\n",
       "    <tr>\n",
       "      <th>75%</th>\n",
       "      <td>1.000000</td>\n",
       "      <td>165.000000</td>\n",
       "      <td>88.000000</td>\n",
       "      <td>1.000000</td>\n",
       "      <td>1.000000</td>\n",
       "      <td>5594.500000</td>\n",
       "      <td>225.000000</td>\n",
       "      <td>83.000000</td>\n",
       "      <td>2.000000</td>\n",
       "      <td>2.000000</td>\n",
       "      <td>2.000000</td>\n",
       "    </tr>\n",
       "    <tr>\n",
       "      <th>max</th>\n",
       "      <td>3.000000</td>\n",
       "      <td>980.000000</td>\n",
       "      <td>972.000000</td>\n",
       "      <td>4.000000</td>\n",
       "      <td>8.000000</td>\n",
       "      <td>81000.000000</td>\n",
       "      <td>1535.000000</td>\n",
       "      <td>1000000.000000</td>\n",
       "      <td>4.000000</td>\n",
       "      <td>6.000000</td>\n",
       "      <td>3.000000</td>\n",
       "    </tr>\n",
       "  </tbody>\n",
       "</table>\n",
       "</div>"
      ],
      "text/plain": [
       "         occupancy  loan_amount  applicant_income    num_units  \\\n",
       "count  1988.000000  1988.000000       1988.000000  1984.000000   \n",
       "mean      1.031690   143.272636         84.684105     1.122480   \n",
       "std       0.191678    80.531470         87.079777     0.437315   \n",
       "min       1.000000     2.000000          0.000000     1.000000   \n",
       "25%       1.000000   100.000000         48.000000     1.000000   \n",
       "50%       1.000000   126.000000         64.000000     1.000000   \n",
       "75%       1.000000   165.000000         88.000000     1.000000   \n",
       "max       3.000000   980.000000        972.000000     4.000000   \n",
       "\n",
       "       num_dependants  monthly_income  purchase_price   liquid_assets  \\\n",
       "count     1985.000000     1988.000000     1988.000000     1988.000000   \n",
       "mean         0.771285     5195.220825      196.304088     4620.333873   \n",
       "std          1.104464     5270.360946      128.136030    67142.936043   \n",
       "min          0.000000        0.000000       25.000000        0.000000   \n",
       "25%          0.000000     2875.750000      129.000000       20.000000   \n",
       "50%          0.000000     3812.500000      163.000000       38.000000   \n",
       "75%          1.000000     5594.500000      225.000000       83.000000   \n",
       "max          8.000000    81000.000000     1535.000000  1000000.000000   \n",
       "\n",
       "       mortage_payment_history  consumer_credit_history  property_type  \n",
       "count              1988.000000              1988.000000    1988.000000  \n",
       "mean                  1.708249                 2.110161       1.861167  \n",
       "std                   0.555335                 1.663256       0.535448  \n",
       "min                   1.000000                 1.000000       1.000000  \n",
       "25%                   1.000000                 1.000000       2.000000  \n",
       "50%                   2.000000                 1.000000       2.000000  \n",
       "75%                   2.000000                 2.000000       2.000000  \n",
       "max                   4.000000                 6.000000       3.000000  "
      ]
     },
     "execution_count": 9,
     "metadata": {},
     "output_type": "execute_result"
    }
   ],
   "source": [
    "df.describe()"
   ]
  },
  {
   "cell_type": "markdown",
   "id": "89f32817",
   "metadata": {},
   "source": [
    "### Shape represents the number of rows and columns in the data structure.\n"
   ]
  },
  {
   "cell_type": "code",
   "execution_count": 10,
   "id": "5fe04ea9",
   "metadata": {},
   "outputs": [
    {
     "data": {
      "text/plain": [
       "(1988, 17)"
      ]
     },
     "execution_count": 10,
     "metadata": {},
     "output_type": "execute_result"
    }
   ],
   "source": [
    "df.shape"
   ]
  },
  {
   "cell_type": "markdown",
   "id": "17a257c7",
   "metadata": {},
   "source": [
    "### Info can quickly get an overview of the DataFrame's structure, including the column names, data types, and missing data."
   ]
  },
  {
   "cell_type": "code",
   "execution_count": 11,
   "id": "5fdaac0b",
   "metadata": {},
   "outputs": [
    {
     "name": "stdout",
     "output_type": "stream",
     "text": [
      "<class 'pandas.core.frame.DataFrame'>\n",
      "RangeIndex: 1988 entries, 0 to 1987\n",
      "Data columns (total 17 columns):\n",
      " #   Column                   Non-Null Count  Dtype  \n",
      "---  ------                   --------------  -----  \n",
      " 0   married                  1985 non-null   object \n",
      " 1   race                     1988 non-null   object \n",
      " 2   loan_decision            1988 non-null   object \n",
      " 3   occupancy                1988 non-null   int64  \n",
      " 4   loan_amount              1988 non-null   int64  \n",
      " 5   applicant_income         1988 non-null   int64  \n",
      " 6   num_units                1984 non-null   float64\n",
      " 7   num_dependants           1985 non-null   float64\n",
      " 8   self_employed            1988 non-null   bool   \n",
      " 9   monthly_income           1988 non-null   int64  \n",
      " 10  purchase_price           1988 non-null   float64\n",
      " 11  liquid_assets            1988 non-null   float64\n",
      " 12  mortage_payment_history  1988 non-null   int64  \n",
      " 13  consumer_credit_history  1988 non-null   int64  \n",
      " 14  filed_bankruptcy         1988 non-null   bool   \n",
      " 15  property_type            1988 non-null   int64  \n",
      " 16  gender                   1974 non-null   object \n",
      "dtypes: bool(2), float64(4), int64(7), object(4)\n",
      "memory usage: 237.0+ KB\n"
     ]
    }
   ],
   "source": [
    "df.info()"
   ]
  },
  {
   "cell_type": "markdown",
   "id": "b699e28b",
   "metadata": {},
   "source": [
    "###   isnull and sum can easily identify which columns in your DataFrame have missing values and how many missing values each column contains."
   ]
  },
  {
   "cell_type": "code",
   "execution_count": 12,
   "id": "1c2e763e",
   "metadata": {},
   "outputs": [
    {
     "data": {
      "text/plain": [
       "married                     3\n",
       "race                        0\n",
       "loan_decision               0\n",
       "occupancy                   0\n",
       "loan_amount                 0\n",
       "applicant_income            0\n",
       "num_units                   4\n",
       "num_dependants              3\n",
       "self_employed               0\n",
       "monthly_income              0\n",
       "purchase_price              0\n",
       "liquid_assets               0\n",
       "mortage_payment_history     0\n",
       "consumer_credit_history     0\n",
       "filed_bankruptcy            0\n",
       "property_type               0\n",
       "gender                     14\n",
       "dtype: int64"
      ]
     },
     "execution_count": 12,
     "metadata": {},
     "output_type": "execute_result"
    }
   ],
   "source": [
    "df.isnull().sum()"
   ]
  },
  {
   "cell_type": "markdown",
   "id": "36d02e84",
   "metadata": {},
   "source": [
    "### Len can quickly obtain the total number of rows in your DataFrame."
   ]
  },
  {
   "cell_type": "code",
   "execution_count": 13,
   "id": "6ccde480",
   "metadata": {},
   "outputs": [
    {
     "data": {
      "text/plain": [
       "1988"
      ]
     },
     "execution_count": 13,
     "metadata": {},
     "output_type": "execute_result"
    }
   ],
   "source": [
    "len(df)"
   ]
  },
  {
   "cell_type": "code",
   "execution_count": 14,
   "id": "491c0116",
   "metadata": {},
   "outputs": [
    {
     "data": {
      "text/plain": [
       "1"
      ]
     },
     "execution_count": 14,
     "metadata": {},
     "output_type": "execute_result"
    }
   ],
   "source": [
    "df.duplicated().sum()"
   ]
  },
  {
   "cell_type": "markdown",
   "id": "b33e36f3",
   "metadata": {},
   "source": [
    "### Total number of People"
   ]
  },
  {
   "cell_type": "code",
   "execution_count": 15,
   "id": "b33e8fda",
   "metadata": {},
   "outputs": [
    {
     "data": {
      "text/plain": [
       "1974"
      ]
     },
     "execution_count": 15,
     "metadata": {},
     "output_type": "execute_result"
    }
   ],
   "source": [
    "total_people = df['gender']\n",
    "total_people.value_counts().sum()"
   ]
  },
  {
   "cell_type": "markdown",
   "id": "c61d355c",
   "metadata": {},
   "source": []
  },
  {
   "cell_type": "markdown",
   "id": "45f40c1f",
   "metadata": {},
   "source": [
    "### Total amount of Males"
   ]
  },
  {
   "cell_type": "code",
   "execution_count": 16,
   "id": "47656473",
   "metadata": {},
   "outputs": [
    {
     "data": {
      "text/plain": [
       "1601"
      ]
     },
     "execution_count": 16,
     "metadata": {},
     "output_type": "execute_result"
    }
   ],
   "source": [
    "male= df[df['gender']=='male']\n",
    "male.value_counts().sum()"
   ]
  },
  {
   "cell_type": "markdown",
   "id": "f04ce716",
   "metadata": {},
   "source": [
    "### Total amount of females"
   ]
  },
  {
   "cell_type": "code",
   "execution_count": 17,
   "id": "09c12356",
   "metadata": {},
   "outputs": [
    {
     "data": {
      "text/plain": [
       "368"
      ]
     },
     "execution_count": 17,
     "metadata": {},
     "output_type": "execute_result"
    }
   ],
   "source": [
    "female =df[df['gender']=='female']\n",
    "female.value_counts().sum()"
   ]
  },
  {
   "cell_type": "markdown",
   "id": "ee601dd8",
   "metadata": {},
   "source": [
    "### How many persons are approved to take out loans?\n"
   ]
  },
  {
   "cell_type": "code",
   "execution_count": 18,
   "id": "1852a82d",
   "metadata": {},
   "outputs": [
    {
     "data": {
      "text/plain": [
       "1727"
      ]
     },
     "execution_count": 18,
     "metadata": {},
     "output_type": "execute_result"
    }
   ],
   "source": [
    "approved = df[df['loan_decision']=='approve']\n",
    "approved.value_counts().sum()"
   ]
  },
  {
   "cell_type": "markdown",
   "id": "3c7267d7",
   "metadata": {},
   "source": [
    "### How many persons are reject to take out loans?\n"
   ]
  },
  {
   "cell_type": "code",
   "execution_count": 19,
   "id": "b1bcd6e9",
   "metadata": {},
   "outputs": [
    {
     "data": {
      "text/plain": [
       "242"
      ]
     },
     "execution_count": 19,
     "metadata": {},
     "output_type": "execute_result"
    }
   ],
   "source": [
    "reject = df[df['loan_decision']=='reject']\n",
    "reject.value_counts().sum()"
   ]
  },
  {
   "cell_type": "markdown",
   "id": "d2f8d9d1",
   "metadata": {},
   "source": [
    "### How many females are reject to take out loans.?"
   ]
  },
  {
   "cell_type": "code",
   "execution_count": 20,
   "id": "68d8a23c",
   "metadata": {},
   "outputs": [
    {
     "data": {
      "text/plain": [
       "50"
      ]
     },
     "execution_count": 20,
     "metadata": {},
     "output_type": "execute_result"
    }
   ],
   "source": [
    "rejected_female_loan = reject[reject['gender']=='female']\n",
    "rejected_female_loan.value_counts().sum()"
   ]
  },
  {
   "cell_type": "markdown",
   "id": "9d73df02",
   "metadata": {},
   "source": [
    "### How many males are reject to take out loans.?\n"
   ]
  },
  {
   "cell_type": "code",
   "execution_count": 21,
   "id": "1b432014",
   "metadata": {},
   "outputs": [
    {
     "data": {
      "text/plain": [
       "192"
      ]
     },
     "execution_count": 21,
     "metadata": {},
     "output_type": "execute_result"
    }
   ],
   "source": [
    "rejected_male_loan = reject[reject['gender']=='male']\n",
    "rejected_male_loan.value_counts().sum()"
   ]
  },
  {
   "cell_type": "markdown",
   "id": "f0d12e5f",
   "metadata": {},
   "source": [
    "### How many males are approved to take out loans.?\n"
   ]
  },
  {
   "cell_type": "code",
   "execution_count": 22,
   "id": "8c9d7cf2",
   "metadata": {},
   "outputs": [
    {
     "data": {
      "text/plain": [
       "1409"
      ]
     },
     "execution_count": 22,
     "metadata": {},
     "output_type": "execute_result"
    }
   ],
   "source": [
    "approved_male_loan = approved[approved['gender']=='male']\n",
    "approved_male_loan.value_counts().sum()"
   ]
  },
  {
   "cell_type": "markdown",
   "id": "7689b2da",
   "metadata": {},
   "source": [
    "### Married People "
   ]
  },
  {
   "cell_type": "code",
   "execution_count": 23,
   "id": "7e01764d",
   "metadata": {},
   "outputs": [
    {
     "data": {
      "text/plain": [
       "1298"
      ]
     },
     "execution_count": 23,
     "metadata": {},
     "output_type": "execute_result"
    }
   ],
   "source": [
    "total_married = df[df['married']== True]\n",
    "total_married.value_counts().sum()"
   ]
  },
  {
   "cell_type": "code",
   "execution_count": null,
   "id": "3a1f56ec",
   "metadata": {},
   "outputs": [],
   "source": []
  },
  {
   "cell_type": "markdown",
   "id": "e0f19f0e",
   "metadata": {},
   "source": [
    "### Unmarried People"
   ]
  },
  {
   "cell_type": "code",
   "execution_count": 24,
   "id": "862ae230",
   "metadata": {},
   "outputs": [
    {
     "data": {
      "text/plain": [
       "671"
      ]
     },
     "execution_count": 24,
     "metadata": {},
     "output_type": "execute_result"
    }
   ],
   "source": [
    "total_unmarried = df[df['married']== False]\n",
    "total_unmarried.value_counts().sum()"
   ]
  },
  {
   "cell_type": "code",
   "execution_count": null,
   "id": "63dcea83",
   "metadata": {},
   "outputs": [],
   "source": []
  },
  {
   "cell_type": "markdown",
   "id": "3299e722",
   "metadata": {},
   "source": [
    "### Total Female married "
   ]
  },
  {
   "cell_type": "code",
   "execution_count": 25,
   "id": "e497ac22",
   "metadata": {},
   "outputs": [
    {
     "data": {
      "text/plain": [
       "116"
      ]
     },
     "execution_count": 25,
     "metadata": {},
     "output_type": "execute_result"
    }
   ],
   "source": [
    "female_married = total_married[total_married['gender']== 'female']\n",
    "female_married.value_counts().sum()"
   ]
  },
  {
   "cell_type": "markdown",
   "id": "65f12f38",
   "metadata": {},
   "source": [
    "### Total male married "
   ]
  },
  {
   "cell_type": "code",
   "execution_count": 26,
   "id": "3d7ccd15",
   "metadata": {},
   "outputs": [
    {
     "data": {
      "text/plain": [
       "1182"
      ]
     },
     "execution_count": 26,
     "metadata": {},
     "output_type": "execute_result"
    }
   ],
   "source": [
    "male_married = total_married[total_married['gender']== 'male']\n",
    "male_married.value_counts().sum()"
   ]
  },
  {
   "cell_type": "markdown",
   "id": "e9f4c088",
   "metadata": {},
   "source": [
    "### Total Male Unmarried "
   ]
  },
  {
   "cell_type": "code",
   "execution_count": 27,
   "id": "f52499be",
   "metadata": {},
   "outputs": [
    {
     "data": {
      "text/plain": [
       "419"
      ]
     },
     "execution_count": 27,
     "metadata": {},
     "output_type": "execute_result"
    }
   ],
   "source": [
    "male_unmarried = total_unmarried[total_unmarried['gender']== 'male']\n",
    "male_unmarried.value_counts().sum()"
   ]
  },
  {
   "cell_type": "markdown",
   "id": "bc9b076f",
   "metadata": {},
   "source": [
    "### Total Female Unmarried "
   ]
  },
  {
   "cell_type": "code",
   "execution_count": 28,
   "id": "24259f6f",
   "metadata": {},
   "outputs": [
    {
     "data": {
      "text/plain": [
       "252"
      ]
     },
     "execution_count": 28,
     "metadata": {},
     "output_type": "execute_result"
    }
   ],
   "source": [
    "female_unmarried = total_unmarried[total_unmarried['gender']== 'female']\n",
    "female_unmarried.value_counts().sum()"
   ]
  },
  {
   "cell_type": "markdown",
   "id": "990f95fc",
   "metadata": {},
   "source": [
    "### Married People approved to take loan"
   ]
  },
  {
   "cell_type": "code",
   "execution_count": 29,
   "id": "526bb4c3",
   "metadata": {},
   "outputs": [
    {
     "data": {
      "text/plain": [
       "1158"
      ]
     },
     "execution_count": 29,
     "metadata": {},
     "output_type": "execute_result"
    }
   ],
   "source": [
    "married_approved_to_take_loan = total_married[total_married['loan_decision']=='approve']\n",
    "married_approved_to_take_loan.value_counts().sum()"
   ]
  },
  {
   "cell_type": "markdown",
   "id": "9b4efaf7",
   "metadata": {},
   "source": [
    "### Married People reject to take loan"
   ]
  },
  {
   "cell_type": "code",
   "execution_count": 30,
   "id": "1b761d14",
   "metadata": {},
   "outputs": [
    {
     "data": {
      "text/plain": [
       "140"
      ]
     },
     "execution_count": 30,
     "metadata": {},
     "output_type": "execute_result"
    }
   ],
   "source": [
    "married_reject_to_take_loan = total_married[total_married['loan_decision']=='reject']\n",
    "married_reject_to_take_loan.value_counts().sum()"
   ]
  },
  {
   "cell_type": "markdown",
   "id": "028c933a",
   "metadata": {},
   "source": [
    "### UnMarried People approved to take loan"
   ]
  },
  {
   "cell_type": "code",
   "execution_count": 31,
   "id": "a4e752e0",
   "metadata": {},
   "outputs": [
    {
     "data": {
      "text/plain": [
       "569"
      ]
     },
     "execution_count": 31,
     "metadata": {},
     "output_type": "execute_result"
    }
   ],
   "source": [
    "Unmarried_approved_to_take_loan = total_unmarried[total_unmarried['loan_decision']=='approve']\n",
    "Unmarried_approved_to_take_loan.value_counts().sum()"
   ]
  },
  {
   "cell_type": "markdown",
   "id": "ce933cef",
   "metadata": {},
   "source": [
    "### UnMarried People reject to take loan"
   ]
  },
  {
   "cell_type": "code",
   "execution_count": 32,
   "id": "76119116",
   "metadata": {},
   "outputs": [
    {
     "data": {
      "text/plain": [
       "102"
      ]
     },
     "execution_count": 32,
     "metadata": {},
     "output_type": "execute_result"
    }
   ],
   "source": [
    "Unmarried_rejected_to_take_loan = total_unmarried[total_unmarried['loan_decision']=='reject']\n",
    "Unmarried_rejected_to_take_loan.value_counts().sum()"
   ]
  },
  {
   "cell_type": "markdown",
   "id": "f530e6ac",
   "metadata": {},
   "source": [
    "### Total number of people of a particular race in our dataset"
   ]
  },
  {
   "cell_type": "code",
   "execution_count": 33,
   "id": "1d85c52f",
   "metadata": {},
   "outputs": [
    {
     "data": {
      "text/plain": [
       "1988"
      ]
     },
     "execution_count": 33,
     "metadata": {},
     "output_type": "execute_result"
    }
   ],
   "source": [
    "total_race = df['race']\n",
    "total_race.value_counts().sum()\n"
   ]
  },
  {
   "cell_type": "markdown",
   "id": "c7667419",
   "metadata": {},
   "source": [
    "### Total Black people number"
   ]
  },
  {
   "cell_type": "code",
   "execution_count": 34,
   "id": "4aaf630c",
   "metadata": {},
   "outputs": [
    {
     "data": {
      "text/plain": [
       "195"
      ]
     },
     "execution_count": 34,
     "metadata": {},
     "output_type": "execute_result"
    }
   ],
   "source": [
    "total_black_number = df[df['race'] == 'black']\n",
    "total_black_number.value_counts().sum()"
   ]
  },
  {
   "cell_type": "markdown",
   "id": "5a796b81",
   "metadata": {},
   "source": [
    "### Total White people number"
   ]
  },
  {
   "cell_type": "code",
   "execution_count": 35,
   "id": "90875be2",
   "metadata": {},
   "outputs": [
    {
     "data": {
      "text/plain": [
       "1666"
      ]
     },
     "execution_count": 35,
     "metadata": {},
     "output_type": "execute_result"
    }
   ],
   "source": [
    "total_white_number = df[df['race'] == 'white']\n",
    "total_white_number.value_counts().sum()"
   ]
  },
  {
   "cell_type": "markdown",
   "id": "815b0b04",
   "metadata": {},
   "source": [
    "### Black People approved to take loan"
   ]
  },
  {
   "cell_type": "code",
   "execution_count": 36,
   "id": "e1128ee0",
   "metadata": {},
   "outputs": [
    {
     "data": {
      "text/plain": [
       "131"
      ]
     },
     "execution_count": 36,
     "metadata": {},
     "output_type": "execute_result"
    }
   ],
   "source": [
    "black_pepole_approved = total_black_number[total_black_number['loan_decision']== 'approve']\n",
    "black_pepole_approved.value_counts().sum()"
   ]
  },
  {
   "cell_type": "markdown",
   "id": "fae37c9a",
   "metadata": {},
   "source": [
    "### Black People reject to take loan"
   ]
  },
  {
   "cell_type": "code",
   "execution_count": 37,
   "id": "b63ad224",
   "metadata": {},
   "outputs": [
    {
     "data": {
      "text/plain": [
       "64"
      ]
     },
     "execution_count": 37,
     "metadata": {},
     "output_type": "execute_result"
    }
   ],
   "source": [
    "black_people_reject = total_black_number[total_black_number['loan_decision']=='reject']\n",
    "black_people_reject.value_counts().sum()"
   ]
  },
  {
   "cell_type": "markdown",
   "id": "85d28d62",
   "metadata": {},
   "source": [
    "### White People approved to take loan"
   ]
  },
  {
   "cell_type": "code",
   "execution_count": 38,
   "id": "3311e785",
   "metadata": {},
   "outputs": [
    {
     "data": {
      "text/plain": [
       "1514"
      ]
     },
     "execution_count": 38,
     "metadata": {},
     "output_type": "execute_result"
    }
   ],
   "source": [
    "total_white_approved = total_white_number[total_white_number['loan_decision']=='approve']\n",
    "total_white_approved.value_counts().sum()"
   ]
  },
  {
   "cell_type": "markdown",
   "id": "6250bcbd",
   "metadata": {},
   "source": [
    "### White People reject to take loan"
   ]
  },
  {
   "cell_type": "code",
   "execution_count": 39,
   "id": "7435f323",
   "metadata": {},
   "outputs": [
    {
     "data": {
      "text/plain": [
       "152"
      ]
     },
     "execution_count": 39,
     "metadata": {},
     "output_type": "execute_result"
    }
   ],
   "source": [
    "total_white_reject = total_white_number[total_white_number['loan_decision']=='reject']\n",
    "total_white_reject.value_counts().sum()"
   ]
  },
  {
   "cell_type": "markdown",
   "id": "8696cd4e",
   "metadata": {},
   "source": [
    "### Total white people married"
   ]
  },
  {
   "cell_type": "code",
   "execution_count": 40,
   "id": "ecc0cf43",
   "metadata": {},
   "outputs": [
    {
     "data": {
      "text/plain": [
       "1101"
      ]
     },
     "execution_count": 40,
     "metadata": {},
     "output_type": "execute_result"
    }
   ],
   "source": [
    "total_white_married = total_white_number[total_white_number['married']== True]\n",
    "total_white_married.value_counts().sum()"
   ]
  },
  {
   "cell_type": "markdown",
   "id": "ff1d9435",
   "metadata": {},
   "source": [
    "### Total white people unmarried"
   ]
  },
  {
   "cell_type": "code",
   "execution_count": 41,
   "id": "6de848f2",
   "metadata": {},
   "outputs": [
    {
     "data": {
      "text/plain": [
       "565"
      ]
     },
     "execution_count": 41,
     "metadata": {},
     "output_type": "execute_result"
    }
   ],
   "source": [
    "total_white_unmarried = total_white_number[total_white_number['married']== False]\n",
    "total_white_unmarried.value_counts().sum()"
   ]
  },
  {
   "cell_type": "markdown",
   "id": "e6c92d24",
   "metadata": {},
   "source": [
    "### Total black people married"
   ]
  },
  {
   "cell_type": "code",
   "execution_count": 42,
   "id": "1abf5406",
   "metadata": {},
   "outputs": [
    {
     "data": {
      "text/plain": [
       "120"
      ]
     },
     "execution_count": 42,
     "metadata": {},
     "output_type": "execute_result"
    }
   ],
   "source": [
    "total_black_married = total_black_number[total_black_number['married']== True]\n",
    "total_black_married.value_counts().sum()"
   ]
  },
  {
   "cell_type": "markdown",
   "id": "116e48eb",
   "metadata": {},
   "source": [
    "### Total black people Unmarried"
   ]
  },
  {
   "cell_type": "code",
   "execution_count": 43,
   "id": "90f22ad5",
   "metadata": {},
   "outputs": [
    {
     "data": {
      "text/plain": [
       "75"
      ]
     },
     "execution_count": 43,
     "metadata": {},
     "output_type": "execute_result"
    }
   ],
   "source": [
    "total_black_unmarried = total_black_number[total_black_number['married']== False]\n",
    "total_black_unmarried.value_counts().sum()"
   ]
  },
  {
   "cell_type": "markdown",
   "id": "a67b4835",
   "metadata": {},
   "source": [
    "### Mean of monthlt Income"
   ]
  },
  {
   "cell_type": "code",
   "execution_count": 44,
   "id": "976a2ea9",
   "metadata": {},
   "outputs": [
    {
     "data": {
      "text/plain": [
       "5195.220824949698"
      ]
     },
     "execution_count": 44,
     "metadata": {},
     "output_type": "execute_result"
    }
   ],
   "source": [
    "mean_monthly_income = df['monthly_income'].mean()\n",
    "mean_monthly_income"
   ]
  },
  {
   "cell_type": "markdown",
   "id": "72b544c8",
   "metadata": {},
   "source": [
    "### People approved to take loan thier monthly_income greater than mean"
   ]
  },
  {
   "cell_type": "code",
   "execution_count": 45,
   "id": "521d2a5f",
   "metadata": {},
   "outputs": [
    {
     "data": {
      "text/plain": [
       "511"
      ]
     },
     "execution_count": 45,
     "metadata": {},
     "output_type": "execute_result"
    }
   ],
   "source": [
    "people_approved_to_take_loan = df[(df['loan_decision'] == 'approve') & (df['monthly_income'] >= mean_monthly_income )]\n",
    "people_approved_to_take_loan.value_counts().sum()"
   ]
  },
  {
   "cell_type": "markdown",
   "id": "bc592626",
   "metadata": {},
   "source": [
    "### People reject to take loan thier monthly_income less than mean"
   ]
  },
  {
   "cell_type": "code",
   "execution_count": 46,
   "id": "3510356e",
   "metadata": {},
   "outputs": [
    {
     "data": {
      "text/plain": [
       "1216"
      ]
     },
     "execution_count": 46,
     "metadata": {},
     "output_type": "execute_result"
    }
   ],
   "source": [
    "people_reject_to_take_loan = df[(df['loan_decision'] == 'approve') & (df['monthly_income'] <= mean_monthly_income )]\n",
    "people_reject_to_take_loan.value_counts().sum()"
   ]
  },
  {
   "cell_type": "markdown",
   "id": "1e980a2f",
   "metadata": {},
   "source": [
    "### Total Result"
   ]
  },
  {
   "cell_type": "code",
   "execution_count": 47,
   "id": "58a325d0",
   "metadata": {},
   "outputs": [
    {
     "name": "stdout",
     "output_type": "stream",
     "text": [
      "length people reject to take loan : 1230\n",
      "length people approved to take loan : 514\n"
     ]
    }
   ],
   "source": [
    "print(f'length people reject to take loan : {len(people_reject_to_take_loan)}\\nlength people approved to take loan : {len(people_approved_to_take_loan)}')"
   ]
  },
  {
   "cell_type": "markdown",
   "id": "ce494d99",
   "metadata": {},
   "source": [
    "### Peoples who are married and have more than one dependent agree to take out loans with monthly incomes that are below mean."
   ]
  },
  {
   "cell_type": "code",
   "execution_count": 48,
   "id": "b91f95a5",
   "metadata": {},
   "outputs": [
    {
     "data": {
      "text/plain": [
       "167"
      ]
     },
     "execution_count": 48,
     "metadata": {},
     "output_type": "execute_result"
    }
   ],
   "source": [
    "people_approved_to_take_loan_and_married = df[(df['loan_decision'] == 'approve') & (df['monthly_income'] >= mean_monthly_income ) & (df['married']== True) & (df['num_dependants'] >1)]\n",
    "people_approved_to_take_loan_and_married.value_counts().sum()\n",
    "# len(people_approved_to_take_loan_and_married)"
   ]
  }
 ],
 "metadata": {
  "kernelspec": {
   "display_name": "Python 3 (ipykernel)",
   "language": "python",
   "name": "python3"
  },
  "language_info": {
   "codemirror_mode": {
    "name": "ipython",
    "version": 3
   },
   "file_extension": ".py",
   "mimetype": "text/x-python",
   "name": "python",
   "nbconvert_exporter": "python",
   "pygments_lexer": "ipython3",
   "version": "3.11.4"
  }
 },
 "nbformat": 4,
 "nbformat_minor": 5
}
